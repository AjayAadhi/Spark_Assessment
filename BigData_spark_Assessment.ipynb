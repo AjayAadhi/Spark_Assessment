{
  "nbformat": 4,
  "nbformat_minor": 0,
  "metadata": {
    "colab": {
      "name": "BigData_spark_Assessment.ipynb",
      "provenance": [],
      "collapsed_sections": []
    },
    "kernelspec": {
      "name": "python3",
      "display_name": "Python 3"
    },
    "language_info": {
      "name": "python"
    }
  },
  "cells": [
    {
      "cell_type": "code",
      "source": [
        "# pip install pyspark"
      ],
      "metadata": {
        "id": "nvuMWwmd9AQ7"
      },
      "execution_count": 109,
      "outputs": []
    },
    {
      "cell_type": "code",
      "source": [
        "# Import necessary libraries\n",
        "\n",
        "import pyspark\n",
        "from pyspark.sql import SparkSession\n",
        "from pyspark.sql import Row\n",
        "appName= \"hive_pyspark\"\n",
        "master= \"local\""
      ],
      "metadata": {
        "id": "LjGGHyqbSa72"
      },
      "execution_count": 110,
      "outputs": []
    },
    {
      "cell_type": "code",
      "source": [
        "# Creating spark session\n",
        "spark = SparkSession.builder.master(master).appName(appName).enableHiveSupport().getOrCreate()"
      ],
      "metadata": {
        "id": "QQnhk0BVSerr"
      },
      "execution_count": 111,
      "outputs": []
    },
    {
      "cell_type": "code",
      "source": [
        "# Show DataBases\n",
        "df = spark.sql(\"show databases\")\n",
        "df.show()"
      ],
      "metadata": {
        "colab": {
          "base_uri": "https://localhost:8080/"
        },
        "id": "lKIEYxp6Siak",
        "outputId": "004e6fce-5f8f-41a4-f837-0495ff0de44a"
      },
      "execution_count": 112,
      "outputs": [
        {
          "output_type": "stream",
          "name": "stdout",
          "text": [
            "+----------+\n",
            "| namespace|\n",
            "+----------+\n",
            "|   default|\n",
            "|mydatabase|\n",
            "+----------+\n",
            "\n"
          ]
        }
      ]
    },
    {
      "cell_type": "code",
      "source": [
        "# Converting csv file to hive table\n",
        "datafile = spark.read.csv(\"/content/boston.csv\",header=True)\n",
        "datafile.show(5)\n",
        "datafile.write.saveAsTable(\"boston1\")"
      ],
      "metadata": {
        "colab": {
          "base_uri": "https://localhost:8080/"
        },
        "id": "AJsIyS56SnHU",
        "outputId": "adb65a5a-7edc-4da5-b799-59c5f7475763"
      },
      "execution_count": 113,
      "outputs": [
        {
          "output_type": "stream",
          "name": "stdout",
          "text": [
            "+-----------+---+-----------+----+-----------+-----------+-----------+-----------+---+---+-----------+-----------+-----------+-----------+\n",
            "|       CRIM| ZN|      INDUS|CHAS|        NOX|         RM|        AGE|        DIS|RAD|TAX|         PT|          B|      LSTAT|         MV|\n",
            "+-----------+---+-----------+----+-----------+-----------+-----------+-----------+---+---+-----------+-----------+-----------+-----------+\n",
            "|    0.00632| 18|2.309999943|   0|0.537999988|6.574999809|65.19999695|4.090000153|  1|296|15.30000019|396.8999939|4.980000019|         24|\n",
            "|0.027310001|  0|7.070000172|   0|0.469000012|6.421000004|78.90000153|4.967100143|  2|242|17.79999924|396.8999939|9.140000343|21.60000038|\n",
            "|    0.02729|  0|7.070000172|   0|0.469000012|7.184999943|61.09999847|4.967100143|  2|242|17.79999924|392.8299866| 4.03000021|34.70000076|\n",
            "|0.032370001|  0|2.180000067|   0|0.458000004|6.998000145|45.79999924|6.062200069|  3|222|18.70000076|394.6300049|2.940000057|33.40000153|\n",
            "|0.069049999|  0|2.180000067|   0|0.458000004|7.146999836|54.20000076|6.062200069|  3|222|18.70000076|396.8999939|5.329999924|36.20000076|\n",
            "+-----------+---+-----------+----+-----------+-----------+-----------+-----------+---+---+-----------+-----------+-----------+-----------+\n",
            "only showing top 5 rows\n",
            "\n"
          ]
        }
      ]
    },
    {
      "cell_type": "code",
      "source": [
        "# DataFrame Created by fetching data from  botson hive table\n",
        "\n",
        "df = spark.sql(\"select * from boston1\")\n",
        "df.show()"
      ],
      "metadata": {
        "colab": {
          "base_uri": "https://localhost:8080/"
        },
        "id": "OV0gwhlMSr2Q",
        "outputId": "a80319f2-bc89-46c0-b0ed-e459ef0b4214"
      },
      "execution_count": 114,
      "outputs": [
        {
          "output_type": "stream",
          "name": "stdout",
          "text": [
            "+-----------+----+-----------+----+-----------+-----------+-----------+-----------+---+---+-----------+-----------+-----------+-----------+\n",
            "|       CRIM|  ZN|      INDUS|CHAS|        NOX|         RM|        AGE|        DIS|RAD|TAX|         PT|          B|      LSTAT|         MV|\n",
            "+-----------+----+-----------+----+-----------+-----------+-----------+-----------+---+---+-----------+-----------+-----------+-----------+\n",
            "|    0.00632|  18|2.309999943|   0|0.537999988|6.574999809|65.19999695|4.090000153|  1|296|15.30000019|396.8999939|4.980000019|         24|\n",
            "|0.027310001|   0|7.070000172|   0|0.469000012|6.421000004|78.90000153|4.967100143|  2|242|17.79999924|396.8999939|9.140000343|21.60000038|\n",
            "|    0.02729|   0|7.070000172|   0|0.469000012|7.184999943|61.09999847|4.967100143|  2|242|17.79999924|392.8299866| 4.03000021|34.70000076|\n",
            "|0.032370001|   0|2.180000067|   0|0.458000004|6.998000145|45.79999924|6.062200069|  3|222|18.70000076|394.6300049|2.940000057|33.40000153|\n",
            "|0.069049999|   0|2.180000067|   0|0.458000004|7.146999836|54.20000076|6.062200069|  3|222|18.70000076|396.8999939|5.329999924|36.20000076|\n",
            "|0.029850001|   0|2.180000067|   0|0.458000004|6.429999828|58.70000076|6.062200069|  3|222|18.70000076|394.1199951|5.210000038|28.70000076|\n",
            "|0.088289998|12.5|7.869999886|   0|0.523999989|6.012000084|66.59999847|5.560500145|  5|311|15.19999981|395.6000061|12.43000031|22.89999962|\n",
            "|0.144549996|12.5|7.869999886|   0|0.523999989|6.171999931|96.09999847|5.950500011|  5|311|15.19999981|396.8999939|19.14999962|27.10000038|\n",
            "|0.211239994|12.5|7.869999886|   0|0.523999989|5.631000042|        100|6.082099915|  5|311|15.19999981|386.6300049|29.93000031|       16.5|\n",
            "|0.170039997|12.5|7.869999886|   0|0.523999989|6.004000187|85.90000153|6.592100143|  5|311|15.19999981|386.7099915|17.10000038|18.89999962|\n",
            "|0.224889994|12.5|7.869999886|   0|0.523999989|6.376999855|94.30000305|6.346700191|  5|311|15.19999981| 392.519989|20.45000076|         15|\n",
            "|0.117470004|12.5|7.869999886|   0|0.523999989|6.008999825|82.90000153|6.226699829|  5|311|15.19999981|396.8999939|13.27000046|18.89999962|\n",
            "|0.093780003|12.5|7.869999886|   0|0.523999989|5.888999939|         39|5.450900078|  5|311|15.19999981|      390.5|15.71000004|21.70000076|\n",
            "|0.629760027|   0|8.140000343|   0|0.537999988|5.948999882|61.79999924|4.707499981|  4|307|         21|396.8999939|8.260000229|20.39999962|\n",
            "|0.637960017|   0|8.140000343|   0|0.537999988|6.096000195|       84.5|4.461900234|  4|307|         21| 380.019989|10.26000023|18.20000076|\n",
            "|0.627390027|   0|8.140000343|   0|0.537999988|5.834000111|       56.5|4.498600006|  4|307|         21|395.6199951|8.470000267|19.89999962|\n",
            "|1.053930044|   0|8.140000343|   0|0.537999988|5.934999943|29.29999924|4.498600006|  4|307|         21|386.8500061|6.579999924|23.10000038|\n",
            "|0.784200013|   0|8.140000343|   0|0.537999988|5.989999771|81.69999695|4.257900238|  4|307|         21|     386.75|14.67000008|       17.5|\n",
            "|0.802709997|   0|8.140000343|   0|0.537999988|5.455999851|36.59999847|3.796499968|  4|307|         21|288.9899902|11.68999958|20.20000076|\n",
            "|0.725799978|   0|8.140000343|   0|0.537999988|5.727000237|       69.5|3.796499968|  4|307|         21|390.9500122|11.27999973|18.20000076|\n",
            "+-----------+----+-----------+----+-----------+-----------+-----------+-----------+---+---+-----------+-----------+-----------+-----------+\n",
            "only showing top 20 rows\n",
            "\n"
          ]
        }
      ]
    },
    {
      "cell_type": "code",
      "source": [
        "# Casting all Columns to double\n",
        "\n",
        "from pyspark.sql.functions import col\n",
        "\n",
        "table = spark.sql(\"select * from boston1\")\n",
        "\n",
        "df = table.select([col(c).cast(\"double\") for c in table.columns])"
      ],
      "metadata": {
        "id": "M8mSJbNtSwhf"
      },
      "execution_count": 115,
      "outputs": []
    },
    {
      "cell_type": "code",
      "source": [
        "# Schema  of dataframe\n",
        "\n",
        "df.printSchema()"
      ],
      "metadata": {
        "colab": {
          "base_uri": "https://localhost:8080/"
        },
        "id": "y5ufoLYySzI8",
        "outputId": "d16dab33-c27f-4559-9936-c5fb2d598361"
      },
      "execution_count": 116,
      "outputs": [
        {
          "output_type": "stream",
          "name": "stdout",
          "text": [
            "root\n",
            " |-- CRIM: double (nullable = true)\n",
            " |-- ZN: double (nullable = true)\n",
            " |-- INDUS: double (nullable = true)\n",
            " |-- CHAS: double (nullable = true)\n",
            " |-- NOX: double (nullable = true)\n",
            " |-- RM: double (nullable = true)\n",
            " |-- AGE: double (nullable = true)\n",
            " |-- DIS: double (nullable = true)\n",
            " |-- RAD: double (nullable = true)\n",
            " |-- TAX: double (nullable = true)\n",
            " |-- PT: double (nullable = true)\n",
            " |-- B: double (nullable = true)\n",
            " |-- LSTAT: double (nullable = true)\n",
            " |-- MV: double (nullable = true)\n",
            "\n"
          ]
        }
      ]
    },
    {
      "cell_type": "code",
      "source": [
        "df.cache()\n",
        "df.printSchema()"
      ],
      "metadata": {
        "colab": {
          "base_uri": "https://localhost:8080/"
        },
        "id": "XKv0QjpwFJXC",
        "outputId": "7fd9340b-6a3a-43ac-ac1f-69f486d4ffc0"
      },
      "execution_count": 117,
      "outputs": [
        {
          "output_type": "stream",
          "name": "stdout",
          "text": [
            "root\n",
            " |-- CRIM: double (nullable = true)\n",
            " |-- ZN: double (nullable = true)\n",
            " |-- INDUS: double (nullable = true)\n",
            " |-- CHAS: double (nullable = true)\n",
            " |-- NOX: double (nullable = true)\n",
            " |-- RM: double (nullable = true)\n",
            " |-- AGE: double (nullable = true)\n",
            " |-- DIS: double (nullable = true)\n",
            " |-- RAD: double (nullable = true)\n",
            " |-- TAX: double (nullable = true)\n",
            " |-- PT: double (nullable = true)\n",
            " |-- B: double (nullable = true)\n",
            " |-- LSTAT: double (nullable = true)\n",
            " |-- MV: double (nullable = true)\n",
            "\n"
          ]
        }
      ]
    },
    {
      "cell_type": "code",
      "source": [
        "df.describe().toPandas().transpose()"
      ],
      "metadata": {
        "colab": {
          "base_uri": "https://localhost:8080/",
          "height": 520
        },
        "id": "4xOsUQiIFjrN",
        "outputId": "3208d695-323c-4bb0-b164-cb7349ddc81a"
      },
      "execution_count": 118,
      "outputs": [
        {
          "output_type": "execute_result",
          "data": {
            "text/plain": [
              "             0                   1                   2            3  \\\n",
              "summary  count                mean              stddev          min   \n",
              "CRIM       506  3.6135235608162057   8.601545086715594      0.00632   \n",
              "ZN         506  11.363636363636363   23.32245299451514          0.0   \n",
              "INDUS      506  11.136778749531626    6.86035298095724  0.460000008   \n",
              "CHAS       506  0.0691699604743083  0.2539940413404101          0.0   \n",
              "NOX        506  0.5546950602312246  0.1158776754570543   0.38499999   \n",
              "RM         506    6.28463438896641  0.7026171549511354  3.561000109   \n",
              "AGE        506   68.57490120115612  28.148861532793276  2.900000095   \n",
              "DIS        506  3.7950426960059325   2.105710142043288  1.129600048   \n",
              "RAD        506   9.549407114624506   8.707259384239366          1.0   \n",
              "TAX        506   408.2371541501976  168.53711605495903        187.0   \n",
              "PT         506   18.45553382776679   2.164945780039869  12.60000038   \n",
              "B          506  356.67402960597883   91.29486340272308  0.319999993   \n",
              "LSTAT      506  12.653063233922925   7.141061500195388  1.730000019   \n",
              "MV         506   22.53280636250988   9.197104107945272          5.0   \n",
              "\n",
              "                   4  \n",
              "summary          max  \n",
              "CRIM     88.97619629  \n",
              "ZN             100.0  \n",
              "INDUS    27.73999977  \n",
              "CHAS             1.0  \n",
              "NOX      0.870999992  \n",
              "RM       8.779999733  \n",
              "AGE            100.0  \n",
              "DIS      12.12650013  \n",
              "RAD             24.0  \n",
              "TAX            711.0  \n",
              "PT              22.0  \n",
              "B        396.8999939  \n",
              "LSTAT    37.97000122  \n",
              "MV              50.0  "
            ],
            "text/html": [
              "\n",
              "  <div id=\"df-6dbaa588-d877-4997-b894-5e7d1c3f9731\">\n",
              "    <div class=\"colab-df-container\">\n",
              "      <div>\n",
              "<style scoped>\n",
              "    .dataframe tbody tr th:only-of-type {\n",
              "        vertical-align: middle;\n",
              "    }\n",
              "\n",
              "    .dataframe tbody tr th {\n",
              "        vertical-align: top;\n",
              "    }\n",
              "\n",
              "    .dataframe thead th {\n",
              "        text-align: right;\n",
              "    }\n",
              "</style>\n",
              "<table border=\"1\" class=\"dataframe\">\n",
              "  <thead>\n",
              "    <tr style=\"text-align: right;\">\n",
              "      <th></th>\n",
              "      <th>0</th>\n",
              "      <th>1</th>\n",
              "      <th>2</th>\n",
              "      <th>3</th>\n",
              "      <th>4</th>\n",
              "    </tr>\n",
              "  </thead>\n",
              "  <tbody>\n",
              "    <tr>\n",
              "      <th>summary</th>\n",
              "      <td>count</td>\n",
              "      <td>mean</td>\n",
              "      <td>stddev</td>\n",
              "      <td>min</td>\n",
              "      <td>max</td>\n",
              "    </tr>\n",
              "    <tr>\n",
              "      <th>CRIM</th>\n",
              "      <td>506</td>\n",
              "      <td>3.6135235608162057</td>\n",
              "      <td>8.601545086715594</td>\n",
              "      <td>0.00632</td>\n",
              "      <td>88.97619629</td>\n",
              "    </tr>\n",
              "    <tr>\n",
              "      <th>ZN</th>\n",
              "      <td>506</td>\n",
              "      <td>11.363636363636363</td>\n",
              "      <td>23.32245299451514</td>\n",
              "      <td>0.0</td>\n",
              "      <td>100.0</td>\n",
              "    </tr>\n",
              "    <tr>\n",
              "      <th>INDUS</th>\n",
              "      <td>506</td>\n",
              "      <td>11.136778749531626</td>\n",
              "      <td>6.86035298095724</td>\n",
              "      <td>0.460000008</td>\n",
              "      <td>27.73999977</td>\n",
              "    </tr>\n",
              "    <tr>\n",
              "      <th>CHAS</th>\n",
              "      <td>506</td>\n",
              "      <td>0.0691699604743083</td>\n",
              "      <td>0.2539940413404101</td>\n",
              "      <td>0.0</td>\n",
              "      <td>1.0</td>\n",
              "    </tr>\n",
              "    <tr>\n",
              "      <th>NOX</th>\n",
              "      <td>506</td>\n",
              "      <td>0.5546950602312246</td>\n",
              "      <td>0.1158776754570543</td>\n",
              "      <td>0.38499999</td>\n",
              "      <td>0.870999992</td>\n",
              "    </tr>\n",
              "    <tr>\n",
              "      <th>RM</th>\n",
              "      <td>506</td>\n",
              "      <td>6.28463438896641</td>\n",
              "      <td>0.7026171549511354</td>\n",
              "      <td>3.561000109</td>\n",
              "      <td>8.779999733</td>\n",
              "    </tr>\n",
              "    <tr>\n",
              "      <th>AGE</th>\n",
              "      <td>506</td>\n",
              "      <td>68.57490120115612</td>\n",
              "      <td>28.148861532793276</td>\n",
              "      <td>2.900000095</td>\n",
              "      <td>100.0</td>\n",
              "    </tr>\n",
              "    <tr>\n",
              "      <th>DIS</th>\n",
              "      <td>506</td>\n",
              "      <td>3.7950426960059325</td>\n",
              "      <td>2.105710142043288</td>\n",
              "      <td>1.129600048</td>\n",
              "      <td>12.12650013</td>\n",
              "    </tr>\n",
              "    <tr>\n",
              "      <th>RAD</th>\n",
              "      <td>506</td>\n",
              "      <td>9.549407114624506</td>\n",
              "      <td>8.707259384239366</td>\n",
              "      <td>1.0</td>\n",
              "      <td>24.0</td>\n",
              "    </tr>\n",
              "    <tr>\n",
              "      <th>TAX</th>\n",
              "      <td>506</td>\n",
              "      <td>408.2371541501976</td>\n",
              "      <td>168.53711605495903</td>\n",
              "      <td>187.0</td>\n",
              "      <td>711.0</td>\n",
              "    </tr>\n",
              "    <tr>\n",
              "      <th>PT</th>\n",
              "      <td>506</td>\n",
              "      <td>18.45553382776679</td>\n",
              "      <td>2.164945780039869</td>\n",
              "      <td>12.60000038</td>\n",
              "      <td>22.0</td>\n",
              "    </tr>\n",
              "    <tr>\n",
              "      <th>B</th>\n",
              "      <td>506</td>\n",
              "      <td>356.67402960597883</td>\n",
              "      <td>91.29486340272308</td>\n",
              "      <td>0.319999993</td>\n",
              "      <td>396.8999939</td>\n",
              "    </tr>\n",
              "    <tr>\n",
              "      <th>LSTAT</th>\n",
              "      <td>506</td>\n",
              "      <td>12.653063233922925</td>\n",
              "      <td>7.141061500195388</td>\n",
              "      <td>1.730000019</td>\n",
              "      <td>37.97000122</td>\n",
              "    </tr>\n",
              "    <tr>\n",
              "      <th>MV</th>\n",
              "      <td>506</td>\n",
              "      <td>22.53280636250988</td>\n",
              "      <td>9.197104107945272</td>\n",
              "      <td>5.0</td>\n",
              "      <td>50.0</td>\n",
              "    </tr>\n",
              "  </tbody>\n",
              "</table>\n",
              "</div>\n",
              "      <button class=\"colab-df-convert\" onclick=\"convertToInteractive('df-6dbaa588-d877-4997-b894-5e7d1c3f9731')\"\n",
              "              title=\"Convert this dataframe to an interactive table.\"\n",
              "              style=\"display:none;\">\n",
              "        \n",
              "  <svg xmlns=\"http://www.w3.org/2000/svg\" height=\"24px\"viewBox=\"0 0 24 24\"\n",
              "       width=\"24px\">\n",
              "    <path d=\"M0 0h24v24H0V0z\" fill=\"none\"/>\n",
              "    <path d=\"M18.56 5.44l.94 2.06.94-2.06 2.06-.94-2.06-.94-.94-2.06-.94 2.06-2.06.94zm-11 1L8.5 8.5l.94-2.06 2.06-.94-2.06-.94L8.5 2.5l-.94 2.06-2.06.94zm10 10l.94 2.06.94-2.06 2.06-.94-2.06-.94-.94-2.06-.94 2.06-2.06.94z\"/><path d=\"M17.41 7.96l-1.37-1.37c-.4-.4-.92-.59-1.43-.59-.52 0-1.04.2-1.43.59L10.3 9.45l-7.72 7.72c-.78.78-.78 2.05 0 2.83L4 21.41c.39.39.9.59 1.41.59.51 0 1.02-.2 1.41-.59l7.78-7.78 2.81-2.81c.8-.78.8-2.07 0-2.86zM5.41 20L4 18.59l7.72-7.72 1.47 1.35L5.41 20z\"/>\n",
              "  </svg>\n",
              "      </button>\n",
              "      \n",
              "  <style>\n",
              "    .colab-df-container {\n",
              "      display:flex;\n",
              "      flex-wrap:wrap;\n",
              "      gap: 12px;\n",
              "    }\n",
              "\n",
              "    .colab-df-convert {\n",
              "      background-color: #E8F0FE;\n",
              "      border: none;\n",
              "      border-radius: 50%;\n",
              "      cursor: pointer;\n",
              "      display: none;\n",
              "      fill: #1967D2;\n",
              "      height: 32px;\n",
              "      padding: 0 0 0 0;\n",
              "      width: 32px;\n",
              "    }\n",
              "\n",
              "    .colab-df-convert:hover {\n",
              "      background-color: #E2EBFA;\n",
              "      box-shadow: 0px 1px 2px rgba(60, 64, 67, 0.3), 0px 1px 3px 1px rgba(60, 64, 67, 0.15);\n",
              "      fill: #174EA6;\n",
              "    }\n",
              "\n",
              "    [theme=dark] .colab-df-convert {\n",
              "      background-color: #3B4455;\n",
              "      fill: #D2E3FC;\n",
              "    }\n",
              "\n",
              "    [theme=dark] .colab-df-convert:hover {\n",
              "      background-color: #434B5C;\n",
              "      box-shadow: 0px 1px 3px 1px rgba(0, 0, 0, 0.15);\n",
              "      filter: drop-shadow(0px 1px 2px rgba(0, 0, 0, 0.3));\n",
              "      fill: #FFFFFF;\n",
              "    }\n",
              "  </style>\n",
              "\n",
              "      <script>\n",
              "        const buttonEl =\n",
              "          document.querySelector('#df-6dbaa588-d877-4997-b894-5e7d1c3f9731 button.colab-df-convert');\n",
              "        buttonEl.style.display =\n",
              "          google.colab.kernel.accessAllowed ? 'block' : 'none';\n",
              "\n",
              "        async function convertToInteractive(key) {\n",
              "          const element = document.querySelector('#df-6dbaa588-d877-4997-b894-5e7d1c3f9731');\n",
              "          const dataTable =\n",
              "            await google.colab.kernel.invokeFunction('convertToInteractive',\n",
              "                                                     [key], {});\n",
              "          if (!dataTable) return;\n",
              "\n",
              "          const docLinkHtml = 'Like what you see? Visit the ' +\n",
              "            '<a target=\"_blank\" href=https://colab.research.google.com/notebooks/data_table.ipynb>data table notebook</a>'\n",
              "            + ' to learn more about interactive tables.';\n",
              "          element.innerHTML = '';\n",
              "          dataTable['output_type'] = 'display_data';\n",
              "          await google.colab.output.renderOutput(dataTable, element);\n",
              "          const docLink = document.createElement('div');\n",
              "          docLink.innerHTML = docLinkHtml;\n",
              "          element.appendChild(docLink);\n",
              "        }\n",
              "      </script>\n",
              "    </div>\n",
              "  </div>\n",
              "  "
            ]
          },
          "metadata": {},
          "execution_count": 118
        }
      ]
    },
    {
      "cell_type": "code",
      "source": [
        "df.columns"
      ],
      "metadata": {
        "colab": {
          "base_uri": "https://localhost:8080/"
        },
        "id": "AWvZuoDtLyrd",
        "outputId": "fd7ad2c2-4de6-435d-8332-1ff1bfdef6e2"
      },
      "execution_count": 119,
      "outputs": [
        {
          "output_type": "execute_result",
          "data": {
            "text/plain": [
              "['CRIM',\n",
              " 'ZN',\n",
              " 'INDUS',\n",
              " 'CHAS',\n",
              " 'NOX',\n",
              " 'RM',\n",
              " 'AGE',\n",
              " 'DIS',\n",
              " 'RAD',\n",
              " 'TAX',\n",
              " 'PT',\n",
              " 'B',\n",
              " 'LSTAT',\n",
              " 'MV']"
            ]
          },
          "metadata": {},
          "execution_count": 119
        }
      ]
    },
    {
      "cell_type": "code",
      "source": [
        "print(df.count(),len(df.columns))"
      ],
      "metadata": {
        "colab": {
          "base_uri": "https://localhost:8080/"
        },
        "id": "Kg6DxYCGLvnA",
        "outputId": "6391fb38-4e74-4010-f554-7804bac97e64"
      },
      "execution_count": 120,
      "outputs": [
        {
          "output_type": "stream",
          "name": "stdout",
          "text": [
            "506 14\n"
          ]
        }
      ]
    },
    {
      "cell_type": "code",
      "source": [
        "from pyspark.sql.functions import isnan, when, count, col\n",
        "df.select([count(when(isnan(c) | col(c).isNull(), c)).alias(c) for c in df.columns]).show()"
      ],
      "metadata": {
        "colab": {
          "base_uri": "https://localhost:8080/"
        },
        "id": "RcI67-9GLrRt",
        "outputId": "23a3fdcd-b758-473b-91d1-463209dccb9d"
      },
      "execution_count": 121,
      "outputs": [
        {
          "output_type": "stream",
          "name": "stdout",
          "text": [
            "+----+---+-----+----+---+---+---+---+---+---+---+---+-----+---+\n",
            "|CRIM| ZN|INDUS|CHAS|NOX| RM|AGE|DIS|RAD|TAX| PT|  B|LSTAT| MV|\n",
            "+----+---+-----+----+---+---+---+---+---+---+---+---+-----+---+\n",
            "|   0|  0|    0|   0|  0|  0|  0|  0|  0|  0|  0|  0|    0|  0|\n",
            "+----+---+-----+----+---+---+---+---+---+---+---+---+-----+---+\n",
            "\n"
          ]
        }
      ]
    },
    {
      "cell_type": "code",
      "source": [
        "import six\n",
        "for i in df.columns:\n",
        "    if not( isinstance(df.select(i).take(1)[0][0], six.string_types)):\n",
        "        print( \"Correlation to MV for \", i, df.stat.corr('MV',i))"
      ],
      "metadata": {
        "colab": {
          "base_uri": "https://localhost:8080/"
        },
        "id": "xad5kne2Fnc7",
        "outputId": "17919ac0-482e-48a3-9917-46ae7befcfa2"
      },
      "execution_count": 122,
      "outputs": [
        {
          "output_type": "stream",
          "name": "stdout",
          "text": [
            "Correlation to MV for  CRIM -0.3883046116575088\n",
            "Correlation to MV for  ZN 0.36044534463752903\n",
            "Correlation to MV for  INDUS -0.48372517128143383\n",
            "Correlation to MV for  CHAS 0.17526017775291847\n",
            "Correlation to MV for  NOX -0.4273207763683772\n",
            "Correlation to MV for  RM 0.695359937127267\n",
            "Correlation to MV for  AGE -0.37695456714288667\n",
            "Correlation to MV for  DIS 0.24992873873512172\n",
            "Correlation to MV for  RAD -0.3816262315669168\n",
            "Correlation to MV for  TAX -0.46853593528654536\n",
            "Correlation to MV for  PT -0.5077867038116085\n",
            "Correlation to MV for  B 0.3334608226834164\n",
            "Correlation to MV for  LSTAT -0.7376627294671615\n",
            "Correlation to MV for  MV 1.0\n"
          ]
        }
      ]
    },
    {
      "cell_type": "code",
      "source": [
        "from pyspark.ml.feature import VectorAssembler\n",
        "vectorAssembler = VectorAssembler(inputCols = ['CRIM', 'ZN', 'INDUS', 'CHAS', 'NOX', 'RM', 'AGE', 'DIS', 'RAD', 'TAX', 'PT', 'B', 'LSTAT'], outputCol = 'features')\n",
        "v_df = vectorAssembler.transform(df)\n",
        "v_df = v_df.select(['features', 'MV'])\n",
        "v_df.show(3)"
      ],
      "metadata": {
        "colab": {
          "base_uri": "https://localhost:8080/"
        },
        "id": "0ikUzzZlFsxH",
        "outputId": "c246dd7f-6603-466e-e34c-51cce93b47e1"
      },
      "execution_count": 123,
      "outputs": [
        {
          "output_type": "stream",
          "name": "stdout",
          "text": [
            "+--------------------+-----------+\n",
            "|            features|         MV|\n",
            "+--------------------+-----------+\n",
            "|[0.00632,18.0,2.3...|       24.0|\n",
            "|[0.027310001,0.0,...|21.60000038|\n",
            "|[0.02729,0.0,7.07...|34.70000076|\n",
            "+--------------------+-----------+\n",
            "only showing top 3 rows\n",
            "\n"
          ]
        }
      ]
    },
    {
      "cell_type": "code",
      "source": [
        "splits = v_df.randomSplit([0.7, 0.3])\n",
        "train_df = splits[0]\n",
        "test_df = splits[1]"
      ],
      "metadata": {
        "id": "LqCnq1_xGFKd"
      },
      "execution_count": 124,
      "outputs": []
    },
    {
      "cell_type": "code",
      "source": [
        "train_df.describe().show()"
      ],
      "metadata": {
        "colab": {
          "base_uri": "https://localhost:8080/"
        },
        "id": "Y0DZouWOISbN",
        "outputId": "87aa3162-8822-4227-cd99-019107ae034f"
      },
      "execution_count": 125,
      "outputs": [
        {
          "output_type": "stream",
          "name": "stdout",
          "text": [
            "+-------+-----------------+\n",
            "|summary|               MV|\n",
            "+-------+-----------------+\n",
            "|  count|              371|\n",
            "|   mean|22.69865234196226|\n",
            "| stddev|9.168357674910284|\n",
            "|    min|              5.0|\n",
            "|    max|             50.0|\n",
            "+-------+-----------------+\n",
            "\n"
          ]
        }
      ]
    },
    {
      "cell_type": "code",
      "source": [
        "test_df.describe().show()"
      ],
      "metadata": {
        "colab": {
          "base_uri": "https://localhost:8080/"
        },
        "id": "nNzXV65TIUVe",
        "outputId": "967e7919-6788-4c20-8d96-8563d3b87f37"
      },
      "execution_count": 126,
      "outputs": [
        {
          "output_type": "stream",
          "name": "stdout",
          "text": [
            "+-------+-----------------+\n",
            "|summary|               MV|\n",
            "+-------+-----------------+\n",
            "|  count|              135|\n",
            "|   mean|    22.0770370412|\n",
            "| stddev|9.294637684470045|\n",
            "|    min|              5.0|\n",
            "|    max|             50.0|\n",
            "+-------+-----------------+\n",
            "\n"
          ]
        }
      ]
    },
    {
      "cell_type": "code",
      "source": [
        "from pyspark.ml.regression import LinearRegression\n",
        "LR = LinearRegression(featuresCol = 'features', labelCol='MV', maxIter=10, regParam=0.3, elasticNetParam=0.8)\n",
        "LR_model = LR.fit(train_df)"
      ],
      "metadata": {
        "id": "lHEPVvj4GN0g"
      },
      "execution_count": 127,
      "outputs": []
    },
    {
      "cell_type": "code",
      "source": [
        "print(\"Coefficients: \" + str(LR_model.coefficients))\n",
        "print(\"Intercept: \" + str(LR_model.intercept))"
      ],
      "metadata": {
        "colab": {
          "base_uri": "https://localhost:8080/"
        },
        "id": "UCzHooGfII8W",
        "outputId": "8e48e5e3-b358-41e7-f5f9-fc51ab986c10"
      },
      "execution_count": 128,
      "outputs": [
        {
          "output_type": "stream",
          "name": "stdout",
          "text": [
            "Coefficients: [-0.03167071771711186,0.003974864270325712,-0.07838131749078307,2.286900222879923,-8.560405545010774,4.205399948410937,0.0,-0.6169913669095305,0.0,0.0,-0.8067771180547203,0.0047871780710253085,-0.4817848966473981]\n",
            "Intercept: 23.187032884348437\n"
          ]
        }
      ]
    },
    {
      "cell_type": "code",
      "source": [
        "trainingSummary = LR_model.summary\n",
        "print(\"RMSE: %f\" % trainingSummary.rootMeanSquaredError)\n",
        "print(\"r2: %f\" % trainingSummary.r2)"
      ],
      "metadata": {
        "colab": {
          "base_uri": "https://localhost:8080/"
        },
        "id": "DwF2un9jGQrJ",
        "outputId": "aa8f2bac-685f-4b4e-b7d6-f6c8d42a740a"
      },
      "execution_count": 129,
      "outputs": [
        {
          "output_type": "stream",
          "name": "stdout",
          "text": [
            "RMSE: 4.856378\n",
            "r2: 0.718671\n"
          ]
        }
      ]
    },
    {
      "cell_type": "code",
      "source": [
        "lr_predictions = LR_model.transform(test_df)\n",
        "lr_predictions.select(\"prediction\",\"MV\",\"features\").show(5)\n",
        "from pyspark.ml.evaluation import RegressionEvaluator\n",
        "lr_evaluator = RegressionEvaluator(predictionCol=\"prediction\", \\\n",
        "                 labelCol=\"MV\",metricName=\"r2\")\n",
        "print(\"R Squared (R2) on test data = %g\" % lr_evaluator.evaluate(lr_predictions))"
      ],
      "metadata": {
        "colab": {
          "base_uri": "https://localhost:8080/"
        },
        "id": "-upPcP3WGaSy",
        "outputId": "2ebe704b-01d1-44c0-fafb-043729e98939"
      },
      "execution_count": 130,
      "outputs": [
        {
          "output_type": "stream",
          "name": "stdout",
          "text": [
            "+------------------+-----------+--------------------+\n",
            "|        prediction|         MV|            features|\n",
            "+------------------+-----------+--------------------+\n",
            "|28.108668076715517|       22.0|[0.01096,55.0,2.2...|\n",
            "|31.395763830427335|31.10000038|[0.02187,60.0,2.9...|\n",
            "| 27.11211607225073|       16.5|[0.024979999,0.0,...|\n",
            "|29.039993560199903|30.79999924|[0.027629999,75.0...|\n",
            "|29.320966032032885|31.20000076|[0.03049,55.0,3.7...|\n",
            "+------------------+-----------+--------------------+\n",
            "only showing top 5 rows\n",
            "\n",
            "R Squared (R2) on test data = 0.697794\n"
          ]
        }
      ]
    },
    {
      "cell_type": "code",
      "source": [
        "test_result = LR_model.evaluate(test_df)\n",
        "print(\"Root Mean Squared Error (RMSE) on test data = %g\" % test_result.rootMeanSquaredError)"
      ],
      "metadata": {
        "colab": {
          "base_uri": "https://localhost:8080/"
        },
        "id": "4okpc-opGdCm",
        "outputId": "b58ab12f-6404-4d91-a90c-0d216cda7d7e"
      },
      "execution_count": 131,
      "outputs": [
        {
          "output_type": "stream",
          "name": "stdout",
          "text": [
            "Root Mean Squared Error (RMSE) on test data = 5.09061\n"
          ]
        }
      ]
    },
    {
      "cell_type": "code",
      "source": [
        "trainingSummary.residuals.show()"
      ],
      "metadata": {
        "colab": {
          "base_uri": "https://localhost:8080/"
        },
        "id": "cwR1zrgnGfcE",
        "outputId": "8e21069d-b3c0-4173-ec69-5ac4167be67f"
      },
      "execution_count": 132,
      "outputs": [
        {
          "output_type": "stream",
          "name": "stderr",
          "text": [
            "/usr/local/lib/python3.7/dist-packages/pyspark/sql/context.py:127: FutureWarning: Deprecated in 3.0.0. Use SparkSession.builder.getOrCreate() instead.\n",
            "  FutureWarning\n"
          ]
        },
        {
          "output_type": "stream",
          "name": "stdout",
          "text": [
            "+-------------------+\n",
            "|          residuals|\n",
            "+-------------------+\n",
            "| -6.755882528567618|\n",
            "| 1.2492453211039454|\n",
            "| 0.4284739695026829|\n",
            "|  5.145205304269329|\n",
            "|  1.246753878831111|\n",
            "| 11.672693241315955|\n",
            "|0.31455110683598164|\n",
            "|-1.7050995936616324|\n",
            "| -3.148274490762695|\n",
            "|  8.609164392905043|\n",
            "|  9.161342454714443|\n",
            "|   3.45464641273405|\n",
            "| 1.6369769219783166|\n",
            "| -2.935956124509076|\n",
            "|  6.231377462209547|\n",
            "|-1.2848529967401063|\n",
            "| 10.957146597366851|\n",
            "| -1.593762383649775|\n",
            "|  5.828073488596516|\n",
            "|-3.9295679152010337|\n",
            "+-------------------+\n",
            "only showing top 20 rows\n",
            "\n"
          ]
        }
      ]
    },
    {
      "cell_type": "code",
      "source": [
        "predictions = LR_model.transform(test_df)\n",
        "predictions.select(\"prediction\",\"MV\",\"features\").show()"
      ],
      "metadata": {
        "colab": {
          "base_uri": "https://localhost:8080/"
        },
        "id": "Lo-ma5JhGh0w",
        "outputId": "842476d8-423f-40f0-a5ca-f7c81d671a24"
      },
      "execution_count": 133,
      "outputs": [
        {
          "output_type": "stream",
          "name": "stdout",
          "text": [
            "+------------------+-----------+--------------------+\n",
            "|        prediction|         MV|            features|\n",
            "+------------------+-----------+--------------------+\n",
            "|28.108668076715517|       22.0|[0.01096,55.0,2.2...|\n",
            "|31.395763830427335|31.10000038|[0.02187,60.0,2.9...|\n",
            "| 27.11211607225073|       16.5|[0.024979999,0.0,...|\n",
            "|29.039993560199903|30.79999924|[0.027629999,75.0...|\n",
            "|29.320966032032885|31.20000076|[0.03049,55.0,3.7...|\n",
            "|21.010729916968025|       17.5|[0.031129999,0.0,...|\n",
            "| 30.09945408807019|       28.5|[0.035020001,80.0...|\n",
            "|37.843815242868466|       48.5|[0.035100002,95.0...|\n",
            "|28.467925881960767|27.89999962|[0.036150001,80.0...|\n",
            "| 26.17480019457937|23.20000076|[0.038710002,52.5...|\n",
            "|27.332983369192547|       22.0|[0.03932,0.0,3.41...|\n",
            "|28.237600644196277|       28.0|[0.041129999,25.0...|\n",
            "| 26.25174675280192|22.89999962|[0.042029999,28.0...|\n",
            "| 24.65715041712842|23.29999924|[0.045600001,0.0,...|\n",
            "| 25.34460882502426|21.89999962|[0.048190001,80.0...|\n",
            "|21.262851327025842|17.10000038|[0.05023,35.0,6.0...|\n",
            "|28.483175864890594|24.60000038|[0.054249998,0.0,...|\n",
            "| 30.75495746314222|36.09999847|[0.055149999,33.0...|\n",
            "|  32.1991691898202|       29.0|[0.055610001,70.0...|\n",
            "|22.714217418524697|       22.0|[0.057890002,12.5...|\n",
            "+------------------+-----------+--------------------+\n",
            "only showing top 20 rows\n",
            "\n"
          ]
        }
      ]
    },
    {
      "cell_type": "code",
      "source": [
        "#evaluating model trained for Rsquared error\n",
        "train_results=LR_model.evaluate(train_df)\n",
        "  \n",
        "print('Rsquared Error :',train_results.r2)"
      ],
      "metadata": {
        "colab": {
          "base_uri": "https://localhost:8080/"
        },
        "id": "L-DUeGxAGpDc",
        "outputId": "7fd8712b-d5c2-4804-babc-01b94beab081"
      },
      "execution_count": 134,
      "outputs": [
        {
          "output_type": "stream",
          "name": "stdout",
          "text": [
            "Rsquared Error : 0.7186713196632921\n"
          ]
        }
      ]
    },
    {
      "cell_type": "code",
      "source": [
        "test_results=LR_model.evaluate(test_df)\n",
        "print('Rsquared Error :',test_results.r2)"
      ],
      "metadata": {
        "colab": {
          "base_uri": "https://localhost:8080/"
        },
        "id": "TeoxKsGmJLp_",
        "outputId": "c0e0b717-22c3-4bc3-9ba9-acdf8c591868"
      },
      "execution_count": 135,
      "outputs": [
        {
          "output_type": "stream",
          "name": "stdout",
          "text": [
            "Rsquared Error : 0.6977938776615368\n"
          ]
        }
      ]
    },
    {
      "cell_type": "code",
      "source": [
        ""
      ],
      "metadata": {
        "id": "i5bG2oCAJSti"
      },
      "execution_count": 135,
      "outputs": []
    }
  ]
}